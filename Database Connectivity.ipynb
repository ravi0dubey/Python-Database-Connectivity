{
 "cells": [
  {
   "cell_type": "markdown",
   "id": "17ec21ad",
   "metadata": {},
   "source": [
    "# Step 1: Create database connection and show list of all database "
   ]
  },
  {
   "cell_type": "code",
   "execution_count": 92,
   "id": "f1281576",
   "metadata": {},
   "outputs": [
    {
     "name": "stdout",
     "output_type": "stream",
     "text": [
      "[('information_schema',), ('coffee_store',), ('mysql',), ('performance_schema',), ('sakila',), ('student',), ('student1',), ('student2',), ('sys',), ('test',), ('world',)]\n"
     ]
    }
   ],
   "source": [
    "#Create database connection and show list of all database \n",
    "import mysql.connector as connection\n",
    "try:\n",
    "    mydb = connection.connect(host =\"localhost\", user =\"devuser\", passwd=\"Logitech1234#\", use_pure= True)\n",
    "    #check if the connection is established\n",
    "    show_db_query =\"SHOW DATABASES\"\n",
    "    \n",
    "    cursor=mydb.cursor() #create a cursor to execute queries\n",
    "    cursor.execute(show_db_query)\n",
    "    print(cursor.fetchall())\n",
    "except Exception as e:\n",
    "    print(str(e))\n",
    "finally:\n",
    "    mydb.close()  "
   ]
  },
  {
   "cell_type": "markdown",
   "id": "8adf242d",
   "metadata": {},
   "source": [
    "# Step 2: Create database connection and Create database STUDENTA"
   ]
  },
  {
   "cell_type": "code",
   "execution_count": 93,
   "id": "fbe584ad",
   "metadata": {},
   "outputs": [
    {
     "name": "stdout",
     "output_type": "stream",
     "text": [
      "[]\n"
     ]
    }
   ],
   "source": [
    "\n",
    "import mysql.connector as connection\n",
    "try:\n",
    "    mydb = connection.connect(host =\"localhost\", user =\"devuser\", passwd=\"Logitech1234#\", use_pure= True)\n",
    "    #check if the connection is established\n",
    "    create_db_query =\"CREATE DATABASE STUDENTA\"\n",
    "    cursor=mydb.cursor() #create a cursor to execute queries\n",
    "    cursor.execute(create_db_query)\n",
    "    print(cursor.fetchall())\n",
    "except Exception as e:\n",
    "    print(str(e))\n",
    "finally:\n",
    "    mydb.close()\n",
    "    "
   ]
  },
  {
   "cell_type": "markdown",
   "id": "720ee104",
   "metadata": {},
   "source": [
    "# we can execute the Database creation query without writing in TRY catch block"
   ]
  },
  {
   "cell_type": "code",
   "execution_count": 94,
   "id": "1a95ca2c",
   "metadata": {},
   "outputs": [],
   "source": [
    "#first connection is established \n",
    "mydb = connection.connect(host =\"localhost\", user =\"devuser\", passwd=\"Logitech1234#\", use_pure= True)\n",
    "create_db_query1 =\"CREATE DATABASE STUDENTB\"\n",
    "cursor=mydb.cursor() #create a cursor to execute create database query\n",
    "cursor.execute(create_db_query1)\n"
   ]
  },
  {
   "cell_type": "code",
   "execution_count": 96,
   "id": "b2c502b3",
   "metadata": {},
   "outputs": [
    {
     "name": "stdout",
     "output_type": "stream",
     "text": [
      "[('information_schema',), ('coffee_store',), ('mysql',), ('performance_schema',), ('sakila',), ('student',), ('student1',), ('student2',), ('studenta',), ('studentb',), ('sys',), ('test',), ('world',)]\n"
     ]
    }
   ],
   "source": [
    "show_db_query1 =\"SHOW DATABASES\"\n",
    "cursor.execute(show_db_query1)\n",
    "print(cursor.fetchall())"
   ]
  },
  {
   "cell_type": "code",
   "execution_count": 97,
   "id": "e8214fc4",
   "metadata": {},
   "outputs": [],
   "source": [
    "#Step to close the Database close\n",
    "mydb.close()"
   ]
  },
  {
   "cell_type": "code",
   "execution_count": 98,
   "id": "204e1b06",
   "metadata": {},
   "outputs": [],
   "source": [
    "#Step to establish connection to the Database \n",
    "mydb = connection.connect(host =\"localhost\", user =\"devuser\", passwd=\"Logitech1234#\", use_pure= True)\n",
    "cursor1= mydb.cursor()"
   ]
  },
  {
   "cell_type": "code",
   "execution_count": 99,
   "id": "3794be59",
   "metadata": {},
   "outputs": [],
   "source": [
    "#any action on Database can only be performed once we execute \"use database\" \n",
    "query1= \"use studentb\"\n",
    "cursor1.execute(query1)"
   ]
  },
  {
   "cell_type": "code",
   "execution_count": 101,
   "id": "5a0afc8e",
   "metadata": {},
   "outputs": [],
   "source": [
    "#query to create a table  student_table in database studentb\n",
    "create_table_query = \"CREATE TABLE  student_table(studentid decimal(10) primary key,name varchar(30),age date,classno varchar(30)); \"\n",
    "cursor1.execute(create_table_query)"
   ]
  },
  {
   "cell_type": "code",
   "execution_count": 102,
   "id": "8ebba9fc",
   "metadata": {},
   "outputs": [
    {
     "name": "stdout",
     "output_type": "stream",
     "text": [
      "[('studentid', 'decimal(10,0)', 'NO', 'PRI', None, ''), ('name', 'varchar(30)', 'YES', '', None, ''), ('age', 'date', 'YES', '', None, ''), ('classno', 'varchar(30)', 'YES', '', None, '')]\n"
     ]
    }
   ],
   "source": [
    "#Query to view description of newly created table \n",
    "desc_table_query = \"desc student_table;\"\n",
    "cursor1.execute(desc_table_query)\n",
    "print(cursor1.fetchall())"
   ]
  },
  {
   "cell_type": "code",
   "execution_count": 104,
   "id": "8884f16a",
   "metadata": {},
   "outputs": [],
   "source": [
    "#Query to insert entry into table  student_table\n",
    "insert_table_query = \"insert into student_table values(10,'Ravi Dubey', 19830115,'10-C');\"\n",
    "cursor1.execute(insert_table_query)"
   ]
  },
  {
   "cell_type": "code",
   "execution_count": 117,
   "id": "12aedfc7",
   "metadata": {},
   "outputs": [],
   "source": [
    "#Query to view student_table data entry\n",
    "view_table_query = \"SELECT * FROM  student_table;\"\n",
    "cursor1.execute(view_table_query)"
   ]
  },
  {
   "cell_type": "code",
   "execution_count": 118,
   "id": "9f4ee538",
   "metadata": {},
   "outputs": [
    {
     "data": {
      "text/plain": [
       "[(Decimal('10'), 'Ravi Dubey', datetime.date(1983, 1, 15), '10-C')]"
      ]
     },
     "execution_count": 118,
     "metadata": {},
     "output_type": "execute_result"
    }
   ],
   "source": [
    "#we can store the output in result variable\n",
    "result =cursor1.fetchall()\n",
    "result"
   ]
  },
  {
   "cell_type": "code",
   "execution_count": 120,
   "id": "a6018e51",
   "metadata": {},
   "outputs": [
    {
     "name": "stdout",
     "output_type": "stream",
     "text": [
      "10\n",
      "Ravi Dubey\n",
      "1983-01-15\n",
      "10-C\n"
     ]
    }
   ],
   "source": [
    "#we can print the output in result variable\n",
    "for i in result:\n",
    "    for j in i:\n",
    "        print(j)"
   ]
  },
  {
   "cell_type": "code",
   "execution_count": null,
   "id": "3b673d29",
   "metadata": {},
   "outputs": [],
   "source": []
  }
 ],
 "metadata": {
  "kernelspec": {
   "display_name": "Python 3 (ipykernel)",
   "language": "python",
   "name": "python3"
  },
  "language_info": {
   "codemirror_mode": {
    "name": "ipython",
    "version": 3
   },
   "file_extension": ".py",
   "mimetype": "text/x-python",
   "name": "python",
   "nbconvert_exporter": "python",
   "pygments_lexer": "ipython3",
   "version": "3.9.7"
  }
 },
 "nbformat": 4,
 "nbformat_minor": 5
}
