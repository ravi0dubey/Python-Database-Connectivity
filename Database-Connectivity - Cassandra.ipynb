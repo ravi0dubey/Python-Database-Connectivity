{
 "cells": [
  {
   "cell_type": "markdown",
   "id": "7757307d",
   "metadata": {},
   "source": [
    "# CASSANDRA from  Cloud and Local System"
   ]
  },
  {
   "cell_type": "markdown",
   "id": "5841d9ac",
   "metadata": {},
   "source": [
    "**************************************************************************************"
   ]
  },
  {
   "cell_type": "markdown",
   "id": "7320ce2d",
   "metadata": {},
   "source": [
    "# Cassandra setup in Cloud\n"
   ]
  },
  {
   "cell_type": "markdown",
   "id": "e0884090",
   "metadata": {},
   "source": [
    "Step 1: Login into https://astra.datastax.com and create a account \n",
    "\n",
    "Step 2: Create a database \"Student\", keyspace = \"ravitest2\", \n",
    "\n",
    "Step 3: Select region which is free one. Google Cloud offers 1 free region\n",
    "\n",
    "Step 4: Connect to Database\n",
    "\n",
    "Step 5: Select Programming language as Python\n",
    "\n",
    "Step 6: Download Bundle Stundent.Zip. Bundle can be kept at any location but its path needs to be provided\n",
    "\n",
    "Step 7: In PlainTextAuthProvider section We will need client ID and Client Password"
   ]
  },
  {
   "cell_type": "code",
   "execution_count": 1,
   "id": "578facec",
   "metadata": {},
   "outputs": [
    {
     "name": "stdout",
     "output_type": "stream",
     "text": [
      "Collecting cassandra-driver\n",
      "  Downloading cassandra-driver-3.25.0.tar.gz (289 kB)\n",
      "Requirement already satisfied: six>=1.9 in c:\\users\\ravi0dubey\\anaconda3\\lib\\site-packages (from cassandra-driver) (1.16.0)\n",
      "Collecting geomet<0.3,>=0.1\n",
      "  Downloading geomet-0.2.1.post1-py3-none-any.whl (18 kB)\n",
      "Requirement already satisfied: click in c:\\users\\ravi0dubey\\anaconda3\\lib\\site-packages (from geomet<0.3,>=0.1->cassandra-driver) (8.0.3)\n",
      "Requirement already satisfied: colorama in c:\\users\\ravi0dubey\\anaconda3\\lib\\site-packages (from click->geomet<0.3,>=0.1->cassandra-driver) (0.4.4)\n",
      "Building wheels for collected packages: cassandra-driver\n",
      "  Building wheel for cassandra-driver (setup.py): started\n",
      "  Building wheel for cassandra-driver (setup.py): finished with status 'done'\n",
      "  Created wheel for cassandra-driver: filename=cassandra_driver-3.25.0-cp39-cp39-win_amd64.whl size=329419 sha256=df7580d5fc394cbe78c75abe8d85acdd7274126f83eb974752ff5a35dedeb9c0\n",
      "  Stored in directory: c:\\users\\ravi0dubey\\appdata\\local\\pip\\cache\\wheels\\3d\\bd\\75\\12875d7c70c5b18e8738c9e06f2d3f5b752fa372917c663fcc\n",
      "Successfully built cassandra-driver\n",
      "Installing collected packages: geomet, cassandra-driver\n",
      "Successfully installed cassandra-driver-3.25.0 geomet-0.2.1.post1\n",
      "Note: you may need to restart the kernel to use updated packages.\n"
     ]
    }
   ],
   "source": [
    "pip install cassandra-driver"
   ]
  },
  {
   "cell_type": "markdown",
   "id": "6964065d",
   "metadata": {},
   "source": [
    "# Steps followed in CQL Console"
   ]
  },
  {
   "cell_type": "markdown",
   "id": "710d6f51",
   "metadata": {},
   "source": [
    "#Since we are getting issues in running query in cloud, follow below steps\n",
    "\n",
    "Step 1. Go to CQL CONSOLE\n",
    "\n",
    "Step 2. CREATE KEYSPACE ravitest4 WITH replication = {'class': 'SimpleStrategy','replication_factor':1} AND durable_writes='true'\");\n",
    "\n",
    "Step 3. DESCRIBE ravitest4;\n",
    "\n",
    "Step 4. USE ravitest4;\n",
    "\n",
    "Step 5. CREATE TABLE ravitest4.emp1(emp_id int PRIMARY KEY, emp_name text, emp_city text, emp_sal varint,emp_phone varint);\n",
    "\n",
    "step 6. insert into ravitest4.emp1(empid,empname, empcity, empsal ,empphone) VALUES(2,'Astha','new york',30, 7121);"
   ]
  },
  {
   "cell_type": "markdown",
   "id": "3fccd13e",
   "metadata": {},
   "source": [
    "# Steps followed in Python for Cloud"
   ]
  },
  {
   "cell_type": "code",
   "execution_count": 5,
   "id": "0dd0949d",
   "metadata": {},
   "outputs": [
    {
     "data": {
      "text/plain": [
       "'3.25.0'"
      ]
     },
     "execution_count": 5,
     "metadata": {},
     "output_type": "execute_result"
    }
   ],
   "source": [
    "import cassandra\n",
    "cassandra.__version__"
   ]
  },
  {
   "cell_type": "code",
   "execution_count": 21,
   "id": "4c6fc980",
   "metadata": {},
   "outputs": [
    {
     "name": "stdout",
     "output_type": "stream",
     "text": [
      "Row(release_version='4.0.0.6816')\n"
     ]
    }
   ],
   "source": [
    "# Step 6: In PlainTextAuthProvider section We will need client ID and Client Secret\n",
    "# In DataStax Astra On top left Go to Organization ->   Organization Settings -> Token Mananagement\n",
    "# Select role as Administrator user -> Generate Token -> Client ID and Client Secret will be generated\n",
    "# Copy paste it in provided space\n",
    "\n",
    "from cassandra.cluster import Cluster\n",
    "from cassandra.auth import PlainTextAuthProvider\n",
    "\n",
    "cloud_config= {\n",
    "        'secure_connect_bundle': 'D:\\Study\\secure-connect-student.zip'\n",
    "}\n",
    "auth_provider = PlainTextAuthProvider('JykaZQcmgcaSwPlbXKOKJJaz', 'Eh6QAGqm1X.LOMgtRaZ1ZRr4EdPGvc.-rheiC0amhUsR3Pfxde2SdfSOdZt4eCRZPKWe.IdnHJUqtWHLy6+51UsZF-LZNOc-iz3XSN-ZE4sR9B0,uJ,oX3Zm2tpJ_vOZ')\n",
    "cluster = Cluster(cloud=cloud_config, auth_provider=auth_provider)\n",
    "session = cluster.connect()\n",
    "\n",
    "row = session.execute(\"select release_version from system.local\").one()\n",
    "if row:\n",
    "    print(row)\n",
    "else:\n",
    "    print(\"An error occurred.\")"
   ]
  },
  {
   "cell_type": "code",
   "execution_count": 117,
   "id": "d9bc9505",
   "metadata": {},
   "outputs": [
    {
     "ename": "Unauthorized",
     "evalue": "Error from server: code=2100 [Unauthorized] message=\"Missing correct permission on ravitest4.\"",
     "output_type": "error",
     "traceback": [
      "\u001b[1;31m---------------------------------------------------------------------------\u001b[0m",
      "\u001b[1;31mUnauthorized\u001b[0m                              Traceback (most recent call last)",
      "\u001b[1;32m~\\AppData\\Local\\Temp/ipykernel_11632/1473055882.py\u001b[0m in \u001b[0;36m<module>\u001b[1;34m\u001b[0m\n\u001b[0;32m     11\u001b[0m \u001b[0mcluster\u001b[0m \u001b[1;33m=\u001b[0m \u001b[0mCluster\u001b[0m\u001b[1;33m(\u001b[0m\u001b[0mcloud\u001b[0m\u001b[1;33m=\u001b[0m\u001b[0mcloud_config\u001b[0m\u001b[1;33m,\u001b[0m \u001b[0mauth_provider\u001b[0m\u001b[1;33m=\u001b[0m\u001b[0mauth_provider\u001b[0m\u001b[1;33m)\u001b[0m\u001b[1;33m\u001b[0m\u001b[1;33m\u001b[0m\u001b[0m\n\u001b[0;32m     12\u001b[0m \u001b[0msession\u001b[0m \u001b[1;33m=\u001b[0m \u001b[0mcluster\u001b[0m\u001b[1;33m.\u001b[0m\u001b[0mconnect\u001b[0m\u001b[1;33m(\u001b[0m\u001b[1;33m)\u001b[0m\u001b[1;33m\u001b[0m\u001b[1;33m\u001b[0m\u001b[0m\n\u001b[1;32m---> 13\u001b[1;33m \u001b[0mrow\u001b[0m \u001b[1;33m=\u001b[0m \u001b[0msession\u001b[0m\u001b[1;33m.\u001b[0m\u001b[0mexecute\u001b[0m\u001b[1;33m(\u001b[0m\u001b[1;34m\"CREATE KEYSPACE ravitest4 WITH replication = {'class': 'SimpleStrategy','replication_factor':1} AND durable_writes='true'\"\u001b[0m\u001b[1;33m)\u001b[0m\u001b[1;33m.\u001b[0m\u001b[0mone\u001b[0m\u001b[1;33m(\u001b[0m\u001b[1;33m)\u001b[0m\u001b[1;33m\u001b[0m\u001b[1;33m\u001b[0m\u001b[0m\n\u001b[0m\u001b[0;32m     14\u001b[0m \u001b[0mprint\u001b[0m\u001b[1;33m(\u001b[0m\u001b[0mrow\u001b[0m\u001b[1;33m)\u001b[0m\u001b[1;33m\u001b[0m\u001b[1;33m\u001b[0m\u001b[0m\n",
      "\u001b[1;32m~\\anaconda3\\lib\\site-packages\\cassandra\\cluster.py\u001b[0m in \u001b[0;36mexecute\u001b[1;34m(self, query, parameters, timeout, trace, custom_payload, execution_profile, paging_state, host, execute_as)\u001b[0m\n\u001b[0;32m   2616\u001b[0m         \"\"\"\n\u001b[0;32m   2617\u001b[0m \u001b[1;33m\u001b[0m\u001b[0m\n\u001b[1;32m-> 2618\u001b[1;33m         \u001b[1;32mreturn\u001b[0m \u001b[0mself\u001b[0m\u001b[1;33m.\u001b[0m\u001b[0mexecute_async\u001b[0m\u001b[1;33m(\u001b[0m\u001b[0mquery\u001b[0m\u001b[1;33m,\u001b[0m \u001b[0mparameters\u001b[0m\u001b[1;33m,\u001b[0m \u001b[0mtrace\u001b[0m\u001b[1;33m,\u001b[0m \u001b[0mcustom_payload\u001b[0m\u001b[1;33m,\u001b[0m \u001b[0mtimeout\u001b[0m\u001b[1;33m,\u001b[0m \u001b[0mexecution_profile\u001b[0m\u001b[1;33m,\u001b[0m \u001b[0mpaging_state\u001b[0m\u001b[1;33m,\u001b[0m \u001b[0mhost\u001b[0m\u001b[1;33m,\u001b[0m \u001b[0mexecute_as\u001b[0m\u001b[1;33m)\u001b[0m\u001b[1;33m.\u001b[0m\u001b[0mresult\u001b[0m\u001b[1;33m(\u001b[0m\u001b[1;33m)\u001b[0m\u001b[1;33m\u001b[0m\u001b[1;33m\u001b[0m\u001b[0m\n\u001b[0m\u001b[0;32m   2619\u001b[0m \u001b[1;33m\u001b[0m\u001b[0m\n\u001b[0;32m   2620\u001b[0m     def execute_async(self, query, parameters=None, trace=False, custom_payload=None,\n",
      "\u001b[1;32m~\\anaconda3\\lib\\site-packages\\cassandra\\cluster.py\u001b[0m in \u001b[0;36mresult\u001b[1;34m(self)\u001b[0m\n\u001b[0;32m   4892\u001b[0m             \u001b[1;32mreturn\u001b[0m \u001b[0mResultSet\u001b[0m\u001b[1;33m(\u001b[0m\u001b[0mself\u001b[0m\u001b[1;33m,\u001b[0m \u001b[0mself\u001b[0m\u001b[1;33m.\u001b[0m\u001b[0m_final_result\u001b[0m\u001b[1;33m)\u001b[0m\u001b[1;33m\u001b[0m\u001b[1;33m\u001b[0m\u001b[0m\n\u001b[0;32m   4893\u001b[0m         \u001b[1;32melse\u001b[0m\u001b[1;33m:\u001b[0m\u001b[1;33m\u001b[0m\u001b[1;33m\u001b[0m\u001b[0m\n\u001b[1;32m-> 4894\u001b[1;33m             \u001b[1;32mraise\u001b[0m \u001b[0mself\u001b[0m\u001b[1;33m.\u001b[0m\u001b[0m_final_exception\u001b[0m\u001b[1;33m\u001b[0m\u001b[1;33m\u001b[0m\u001b[0m\n\u001b[0m\u001b[0;32m   4895\u001b[0m \u001b[1;33m\u001b[0m\u001b[0m\n\u001b[0;32m   4896\u001b[0m     \u001b[1;32mdef\u001b[0m \u001b[0mget_query_trace_ids\u001b[0m\u001b[1;33m(\u001b[0m\u001b[0mself\u001b[0m\u001b[1;33m)\u001b[0m\u001b[1;33m:\u001b[0m\u001b[1;33m\u001b[0m\u001b[1;33m\u001b[0m\u001b[0m\n",
      "\u001b[1;31mUnauthorized\u001b[0m: Error from server: code=2100 [Unauthorized] message=\"Missing correct permission on ravitest4.\""
     ]
    }
   ],
   "source": [
    "#Create Key_Spaces\n",
    "#having issues in permissionm with keyspace as ASTRA does not allow creation of Keyspaces from outside source\n",
    "# In Cloud, go to cluster and there is option to Add KeySpace. create the keyspace ravitest4\n",
    "\n",
    "from cassandra.cluster import Cluster\n",
    "from cassandra.auth import PlainTextAuthProvider\n",
    "\n",
    "cloud_config= {\n",
    "        'secure_connect_bundle': 'D:\\Study\\secure-connect-student.zip'\n",
    "}\n",
    "auth_provider = PlainTextAuthProvider('JykaZQcmgcaSwPlbXKOKJJaz', 'Eh6QAGqm1X.LOMgtRaZ1ZRr4EdPGvc.-rheiC0amhUsR3Pfxde2SdfSOdZt4eCRZPKWe.IdnHJUqtWHLy6+51UsZF-LZNOc-iz3XSN-ZE4sR9B0,uJ,oX3Zm2tpJ_vOZ')\n",
    "cluster = Cluster(cloud=cloud_config, auth_provider=auth_provider)\n",
    "session = cluster.connect()\n",
    "row = session.execute(\"CREATE KEYSPACE ravitest4 WITH replication = {'class': 'SimpleStrategy','replication_factor':1} AND durable_writes='true'\").one()\n",
    "print(row)"
   ]
  },
  {
   "cell_type": "code",
   "execution_count": 107,
   "id": "e6e7c321",
   "metadata": {},
   "outputs": [
    {
     "name": "stdout",
     "output_type": "stream",
     "text": [
      "<cassandra.cluster.ResultSet object at 0x000001BDEA5D2550>\n"
     ]
    }
   ],
   "source": [
    "#use keyspaces ravitest4\n",
    "\n",
    "from cassandra.cluster import Cluster\n",
    "from cassandra.auth import PlainTextAuthProvider\n",
    "\n",
    "cloud_config= {\n",
    "        'secure_connect_bundle': 'D:\\Study\\secure-connect-student.zip'\n",
    "}\n",
    "auth_provider = PlainTextAuthProvider('JykaZQcmgcaSwPlbXKOKJJaz', 'Eh6QAGqm1X.LOMgtRaZ1ZRr4EdPGvc.-rheiC0amhUsR3Pfxde2SdfSOdZt4eCRZPKWe.IdnHJUqtWHLy6+51UsZF-LZNOc-iz3XSN-ZE4sR9B0,uJ,oX3Zm2tpJ_vOZ')\n",
    "cluster = Cluster(cloud=cloud_config, auth_provider=auth_provider)\n",
    "session = cluster.connect()\n",
    "row = session.execute(\"USE ravitest4\")\n",
    "print(row)"
   ]
  },
  {
   "cell_type": "code",
   "execution_count": 108,
   "id": "e2320868",
   "metadata": {},
   "outputs": [
    {
     "ename": "SyntaxException",
     "evalue": "<Error from server: code=2000 [Syntax error in CQL query] message=\"line 1:0 no viable alternative at input 'DESCRIBE' ([DESCRIBE]...)\">",
     "output_type": "error",
     "traceback": [
      "\u001b[1;31m---------------------------------------------------------------------------\u001b[0m",
      "\u001b[1;31mSyntaxException\u001b[0m                           Traceback (most recent call last)",
      "\u001b[1;32m~\\AppData\\Local\\Temp/ipykernel_11632/3899353024.py\u001b[0m in \u001b[0;36m<module>\u001b[1;34m\u001b[0m\n\u001b[0;32m     11\u001b[0m \u001b[0mcluster\u001b[0m \u001b[1;33m=\u001b[0m \u001b[0mCluster\u001b[0m\u001b[1;33m(\u001b[0m\u001b[0mcloud\u001b[0m\u001b[1;33m=\u001b[0m\u001b[0mcloud_config\u001b[0m\u001b[1;33m,\u001b[0m \u001b[0mauth_provider\u001b[0m\u001b[1;33m=\u001b[0m\u001b[0mauth_provider\u001b[0m\u001b[1;33m)\u001b[0m\u001b[1;33m\u001b[0m\u001b[1;33m\u001b[0m\u001b[0m\n\u001b[0;32m     12\u001b[0m \u001b[0msession\u001b[0m \u001b[1;33m=\u001b[0m \u001b[0mcluster\u001b[0m\u001b[1;33m.\u001b[0m\u001b[0mconnect\u001b[0m\u001b[1;33m(\u001b[0m\u001b[1;33m)\u001b[0m\u001b[1;33m\u001b[0m\u001b[1;33m\u001b[0m\u001b[0m\n\u001b[1;32m---> 13\u001b[1;33m \u001b[0mrow\u001b[0m \u001b[1;33m=\u001b[0m \u001b[0msession\u001b[0m\u001b[1;33m.\u001b[0m\u001b[0mexecute\u001b[0m\u001b[1;33m(\u001b[0m\u001b[1;34m\"DESCRIBE ravitest4\"\u001b[0m\u001b[1;33m)\u001b[0m\u001b[1;33m.\u001b[0m\u001b[0mone\u001b[0m\u001b[1;33m(\u001b[0m\u001b[1;33m)\u001b[0m\u001b[1;33m\u001b[0m\u001b[1;33m\u001b[0m\u001b[0m\n\u001b[0m\u001b[0;32m     14\u001b[0m \u001b[0mprint\u001b[0m\u001b[1;33m(\u001b[0m\u001b[0mrow\u001b[0m\u001b[1;33m)\u001b[0m\u001b[1;33m\u001b[0m\u001b[1;33m\u001b[0m\u001b[0m\n",
      "\u001b[1;32m~\\anaconda3\\lib\\site-packages\\cassandra\\cluster.py\u001b[0m in \u001b[0;36mexecute\u001b[1;34m(self, query, parameters, timeout, trace, custom_payload, execution_profile, paging_state, host, execute_as)\u001b[0m\n\u001b[0;32m   2616\u001b[0m         \"\"\"\n\u001b[0;32m   2617\u001b[0m \u001b[1;33m\u001b[0m\u001b[0m\n\u001b[1;32m-> 2618\u001b[1;33m         \u001b[1;32mreturn\u001b[0m \u001b[0mself\u001b[0m\u001b[1;33m.\u001b[0m\u001b[0mexecute_async\u001b[0m\u001b[1;33m(\u001b[0m\u001b[0mquery\u001b[0m\u001b[1;33m,\u001b[0m \u001b[0mparameters\u001b[0m\u001b[1;33m,\u001b[0m \u001b[0mtrace\u001b[0m\u001b[1;33m,\u001b[0m \u001b[0mcustom_payload\u001b[0m\u001b[1;33m,\u001b[0m \u001b[0mtimeout\u001b[0m\u001b[1;33m,\u001b[0m \u001b[0mexecution_profile\u001b[0m\u001b[1;33m,\u001b[0m \u001b[0mpaging_state\u001b[0m\u001b[1;33m,\u001b[0m \u001b[0mhost\u001b[0m\u001b[1;33m,\u001b[0m \u001b[0mexecute_as\u001b[0m\u001b[1;33m)\u001b[0m\u001b[1;33m.\u001b[0m\u001b[0mresult\u001b[0m\u001b[1;33m(\u001b[0m\u001b[1;33m)\u001b[0m\u001b[1;33m\u001b[0m\u001b[1;33m\u001b[0m\u001b[0m\n\u001b[0m\u001b[0;32m   2619\u001b[0m \u001b[1;33m\u001b[0m\u001b[0m\n\u001b[0;32m   2620\u001b[0m     def execute_async(self, query, parameters=None, trace=False, custom_payload=None,\n",
      "\u001b[1;32m~\\anaconda3\\lib\\site-packages\\cassandra\\cluster.py\u001b[0m in \u001b[0;36mresult\u001b[1;34m(self)\u001b[0m\n\u001b[0;32m   4892\u001b[0m             \u001b[1;32mreturn\u001b[0m \u001b[0mResultSet\u001b[0m\u001b[1;33m(\u001b[0m\u001b[0mself\u001b[0m\u001b[1;33m,\u001b[0m \u001b[0mself\u001b[0m\u001b[1;33m.\u001b[0m\u001b[0m_final_result\u001b[0m\u001b[1;33m)\u001b[0m\u001b[1;33m\u001b[0m\u001b[1;33m\u001b[0m\u001b[0m\n\u001b[0;32m   4893\u001b[0m         \u001b[1;32melse\u001b[0m\u001b[1;33m:\u001b[0m\u001b[1;33m\u001b[0m\u001b[1;33m\u001b[0m\u001b[0m\n\u001b[1;32m-> 4894\u001b[1;33m             \u001b[1;32mraise\u001b[0m \u001b[0mself\u001b[0m\u001b[1;33m.\u001b[0m\u001b[0m_final_exception\u001b[0m\u001b[1;33m\u001b[0m\u001b[1;33m\u001b[0m\u001b[0m\n\u001b[0m\u001b[0;32m   4895\u001b[0m \u001b[1;33m\u001b[0m\u001b[0m\n\u001b[0;32m   4896\u001b[0m     \u001b[1;32mdef\u001b[0m \u001b[0mget_query_trace_ids\u001b[0m\u001b[1;33m(\u001b[0m\u001b[0mself\u001b[0m\u001b[1;33m)\u001b[0m\u001b[1;33m:\u001b[0m\u001b[1;33m\u001b[0m\u001b[1;33m\u001b[0m\u001b[0m\n",
      "\u001b[1;31mSyntaxException\u001b[0m: <Error from server: code=2000 [Syntax error in CQL query] message=\"line 1:0 no viable alternative at input 'DESCRIBE' ([DESCRIBE]...)\">"
     ]
    }
   ],
   "source": [
    "#DESCRIBE keyspaces\n",
    "#having issues in permission, so we cannot run it using python. It will work good with CQL CONSOLE\n",
    "\n",
    "from cassandra.cluster import Cluster\n",
    "from cassandra.auth import PlainTextAuthProvider\n",
    "\n",
    "cloud_config= {\n",
    "        'secure_connect_bundle': 'D:\\Study\\secure-connect-student.zip'\n",
    "}\n",
    "auth_provider = PlainTextAuthProvider('JykaZQcmgcaSwPlbXKOKJJaz', 'Eh6QAGqm1X.LOMgtRaZ1ZRr4EdPGvc.-rheiC0amhUsR3Pfxde2SdfSOdZt4eCRZPKWe.IdnHJUqtWHLy6+51UsZF-LZNOc-iz3XSN-ZE4sR9B0,uJ,oX3Zm2tpJ_vOZ')\n",
    "cluster = Cluster(cloud=cloud_config, auth_provider=auth_provider)\n",
    "session = cluster.connect()\n",
    "row = session.execute(\"DESCRIBE ravitest4\").one()\n",
    "print(row)"
   ]
  },
  {
   "cell_type": "code",
   "execution_count": 111,
   "id": "e484b393",
   "metadata": {},
   "outputs": [
    {
     "name": "stdout",
     "output_type": "stream",
     "text": [
      "Row(keyspace_name='system_auth', durable_writes=True, graph_engine=None, replication=OrderedMapSerializedKey([('class', 'org.apache.cassandra.locator.NetworkTopologyStrategy'), ('us-east1', '3')]))\n"
     ]
    }
   ],
   "source": [
    "#GET keyspaces DETAILS\n",
    "\n",
    "from cassandra.cluster import Cluster\n",
    "from cassandra.auth import PlainTextAuthProvider\n",
    "\n",
    "cloud_config= {\n",
    "        'secure_connect_bundle': 'D:\\Study\\secure-connect-student.zip'\n",
    "}\n",
    "auth_provider = PlainTextAuthProvider('JykaZQcmgcaSwPlbXKOKJJaz', 'Eh6QAGqm1X.LOMgtRaZ1ZRr4EdPGvc.-rheiC0amhUsR3Pfxde2SdfSOdZt4eCRZPKWe.IdnHJUqtWHLy6+51UsZF-LZNOc-iz3XSN-ZE4sR9B0,uJ,oX3Zm2tpJ_vOZ')\n",
    "cluster = Cluster(cloud=cloud_config, auth_provider=auth_provider)\n",
    "session = cluster.connect()\n",
    "row = session.execute(\"SELECT * FROM system_schema.keyspaces\").one()\n",
    "print(row)"
   ]
  },
  {
   "cell_type": "code",
   "execution_count": 112,
   "id": "95d41471",
   "metadata": {},
   "outputs": [
    {
     "name": "stdout",
     "output_type": "stream",
     "text": [
      "None\n"
     ]
    }
   ],
   "source": [
    "#create table emp\n",
    "\n",
    "row = session.execute(\"CREATE TABLE ravitest4.emp1(emp_id int PRIMARY KEY, emp_name text, emp_city text, emp_sal varint,emp_phone varint)\").one()\n",
    "print(row)\n"
   ]
  },
  {
   "cell_type": "code",
   "execution_count": 118,
   "id": "05877525",
   "metadata": {},
   "outputs": [
    {
     "name": "stdout",
     "output_type": "stream",
     "text": [
      "None\n"
     ]
    }
   ],
   "source": [
    "#Insert data into table\n",
    "\n",
    "row = session.execute(\"insert into ravitest4.emp1(emp_id,emp_name, emp_city, emp_sal ,emp_phone) VALUES(2,'Astha','new york',30, 7121)\").one()\n",
    "print(row)"
   ]
  },
  {
   "cell_type": "code",
   "execution_count": 119,
   "id": "4ee639a7",
   "metadata": {},
   "outputs": [
    {
     "name": "stdout",
     "output_type": "stream",
     "text": [
      "Row(emp_id=2, emp_city='new york', emp_name='Astha', emp_phone=7121, emp_sal=30)\n"
     ]
    }
   ],
   "source": [
    "#view multiple records in table\n",
    "\n",
    "for i in session.execute(\"select * from ravitest4.emp1\"):\n",
    "    print(i)"
   ]
  },
  {
   "cell_type": "markdown",
   "id": "fcb59583",
   "metadata": {},
   "source": [
    "# CASSANDRA LOCAL SYSTEM"
   ]
  },
  {
   "cell_type": "markdown",
   "id": "bcea21cd",
   "metadata": {},
   "source": [
    "# Installation Steps in local System"
   ]
  },
  {
   "cell_type": "markdown",
   "id": "8ab7410d",
   "metadata": {},
   "source": [
    "Step 1: Download jdk1.8.0_202 version of Java, which will be available in Archive section.Install Java and keep it location\n",
    "        which will be used later in setting up Java_home Variable\n",
    "\n",
    "Step 2: In Systems Env variable, set Java_Home to C:\\Java\\jdk1.8.0_202\n",
    "\n",
    "Step 3: Download Cassandra Rfrom \n",
    "a. Unzip it\n",
    "b. copy unzipped version in C: drive\n",
    "c. go to powershell in admin mode and cd c:\\apache-cassandra-3.11.13\\bin\n",
    "d. execute command cassandra.bat -h\n",
    "e. if above does not work, go to above location, right click on bat file and run as admin\n",
    "F. Keep it running as it is active system\n",
    "\n",
    "Step 4: In Systems Env variable, set CASSANDRA_Home to C:\\apache-cassandra-3.11.13 \n",
    "\n",
    "Step 5: Download Thrift and save it in download\n",
    "https://www.apache.org/dyn/closer.cgi?path=/thrift/0.16.0/thrift-0.16.0.tar.gz and download from link under HTTP\n",
    "\n",
    "Step 6: Execute Anaconda cmd promt in administrator role\n",
    "\n",
    "a.  C:\\apache-cassandra-3.11.13\\bin>\n",
    "\n",
    "b. conda create --name python python=2.7\n",
    "\n",
    "c. check version using  python --version\n",
    "\n",
    "d. execute -- conda activate python\n",
    "\n",
    "Step 7: Execute command cqlsh\n",
    "\n",
    "Step 8: create keyspace \"ravi_test\"\n",
    "\n",
    "CREATE KEYSPACE ravi_test WITH replication = {'class': 'SimpleStrategy','replication_factor':1} AND durable_writes='true';\n",
    "\n",
    "Step 9 : use ravi_test. iT will create string with ...\n",
    "\n",
    "Step 10 : enter ; next to ... and press Enter\n",
    "\n",
    "step 11 : DESCRIBE KEYSPACE\n",
    "\n",
    "STEP 11: we can create table directly using command \n",
    "create table ravi.emp(empid int PRIMARY KEY, empname text, empcity text, empsal varint,empphone varint)\n",
    "\n",
    "STEP 12 : View data using select * from ravi.emp\n",
    "\n",
    "STEP 13 : insert into table : insert into emp(empid,empname, empcity, empsal ,empphone) VALUES(1,'ravi','toronto',20, 8467)\n",
    "\n",
    "\n"
   ]
  },
  {
   "cell_type": "markdown",
   "id": "ee24a406",
   "metadata": {},
   "source": [
    "# Steps followed in Python for Local System"
   ]
  },
  {
   "cell_type": "code",
   "execution_count": 20,
   "id": "29f5a820",
   "metadata": {},
   "outputs": [
    {
     "name": "stdout",
     "output_type": "stream",
     "text": [
      "Row(release_version='3.11.13')\n"
     ]
    }
   ],
   "source": [
    "#Cassandra from Local System\n",
    "#Version number displayed below\n",
    "from cassandra.cluster import Cluster\n",
    "cluster = Cluster()\n",
    "session_offline = cluster.connect()\n",
    "row = session_offline.execute(\"select release_version from system.local\").one()\n",
    "if row:\n",
    "    print(row)\n",
    "else:\n",
    "    print(\"An error occurred.\")"
   ]
  },
  {
   "cell_type": "markdown",
   "id": "a8e64afe",
   "metadata": {},
   "source": [
    "# Execute Query either in Local \n"
   ]
  },
  {
   "cell_type": "code",
   "execution_count": 29,
   "id": "ce2e9bb5",
   "metadata": {},
   "outputs": [
    {
     "name": "stdout",
     "output_type": "stream",
     "text": [
      "None\n"
     ]
    }
   ],
   "source": [
    "#Create Keyspace\n",
    "\n",
    "from cassandra.cluster import Cluster\n",
    "cluster = Cluster()\n",
    "session_offline = cluster.connect()\n",
    "row = session_offline.execute(\"CREATE KEYSPACE ravi_test3 WITH replication = {'class': 'SimpleStrategy','replication_factor':1} AND durable_writes='true';\").one()\n",
    "print(row)\n"
   ]
  },
  {
   "cell_type": "code",
   "execution_count": 30,
   "id": "a36c5e2d",
   "metadata": {},
   "outputs": [
    {
     "name": "stdout",
     "output_type": "stream",
     "text": [
      "<cassandra.cluster.ResultSet object at 0x000001BDE93F01F0>\n"
     ]
    }
   ],
   "source": [
    "#use Keyspace ravi_Test2\n",
    "\n",
    "from cassandra.cluster import Cluster\n",
    "cluster = Cluster()\n",
    "session_offline = cluster.connect()\n",
    "row = session_offline.execute(\"use ravi_test3 \")\n",
    "print(row)\n"
   ]
  },
  {
   "cell_type": "code",
   "execution_count": 45,
   "id": "0245c3e5",
   "metadata": {},
   "outputs": [
    {
     "name": "stdout",
     "output_type": "stream",
     "text": [
      "Row(keyspace_name='ravi_test3', durable_writes=True, replication=OrderedMapSerializedKey([('class', 'org.apache.cassandra.locator.SimpleStrategy'), ('replication_factor', '1')]))\n"
     ]
    }
   ],
   "source": [
    "#GET KEYSPACE DETAILS\n",
    "\n",
    "from cassandra.cluster import Cluster\n",
    "cluster = Cluster()\n",
    "session_offline = cluster.connect()\n",
    "row = session_offline.execute(\"SELECT * FROM system_schema.keyspaces\").one()\n",
    "print(row)"
   ]
  },
  {
   "cell_type": "code",
   "execution_count": 55,
   "id": "f9208894",
   "metadata": {},
   "outputs": [
    {
     "name": "stdout",
     "output_type": "stream",
     "text": [
      "None\n"
     ]
    }
   ],
   "source": [
    "#use KEYSPACE ravi_test3\n",
    "\n",
    "from cassandra.cluster import Cluster\n",
    "cluster = Cluster()\n",
    "session_offline = cluster.connect()\n",
    "row = session_offline.execute(\"use ravi_test3\").one()\n",
    "print(row)"
   ]
  },
  {
   "cell_type": "code",
   "execution_count": 57,
   "id": "8d0efbe0",
   "metadata": {},
   "outputs": [
    {
     "name": "stdout",
     "output_type": "stream",
     "text": [
      "None\n"
     ]
    }
   ],
   "source": [
    "#Create Keyspace\n",
    "\n",
    "from cassandra.cluster import Cluster\n",
    "cluster = Cluster()\n",
    "session_offline = cluster.connect()\n",
    "row = session_offline.execute(\"CREATE KEYSPACE ravi WITH replication = {'class': 'SimpleStrategy','replication_factor':1} AND durable_writes='true';\").one()\n",
    "print(row)"
   ]
  },
  {
   "cell_type": "code",
   "execution_count": 62,
   "id": "9316a142",
   "metadata": {},
   "outputs": [
    {
     "name": "stdout",
     "output_type": "stream",
     "text": [
      "None\n"
     ]
    }
   ],
   "source": [
    "#use KEYSPACE ravi\n",
    "\n",
    "from cassandra.cluster import Cluster\n",
    "cluster = Cluster()\n",
    "session_offline = cluster.connect()\n",
    "row = session_offline.execute(\"use ravi\").one()\n",
    "print(row)"
   ]
  },
  {
   "cell_type": "code",
   "execution_count": 61,
   "id": "a43a7a67",
   "metadata": {},
   "outputs": [
    {
     "name": "stdout",
     "output_type": "stream",
     "text": [
      "Row(keyspace_name='ravi', durable_writes=True, replication=OrderedMapSerializedKey([('class', 'org.apache.cassandra.locator.SimpleStrategy'), ('replication_factor', '1')]))\n"
     ]
    }
   ],
   "source": [
    "#GET KEYSPACE DETAILS\n",
    "\n",
    "from cassandra.cluster import Cluster\n",
    "cluster = Cluster()\n",
    "session_offline = cluster.connect()\n",
    "row = session_offline.execute(\"SELECT * FROM system_schema.keyspaces\").one()\n",
    "print(row)"
   ]
  },
  {
   "cell_type": "code",
   "execution_count": 70,
   "id": "cc556553",
   "metadata": {},
   "outputs": [
    {
     "name": "stdout",
     "output_type": "stream",
     "text": [
      "None\n"
     ]
    }
   ],
   "source": [
    "#create table emp\n",
    "\n",
    "from cassandra.cluster import Cluster\n",
    "cluster = Cluster()\n",
    "session_offline = cluster.connect()\n",
    "row = session_offline.execute(\"create table ravi.emp(empid int PRIMARY KEY, empname text, empcity text, empsal varint,empphone varint)\").one()\n",
    "print(row)"
   ]
  },
  {
   "cell_type": "code",
   "execution_count": 83,
   "id": "ef038ece",
   "metadata": {
    "scrolled": true
   },
   "outputs": [
    {
     "name": "stdout",
     "output_type": "stream",
     "text": [
      "None\n"
     ]
    }
   ],
   "source": [
    "#Insert data into table\n",
    "\n",
    "row = session_offline.execute(\"insert into ravi.emp(empid,empname, empcity, empsal ,empphone) VALUES(1,'ravi','toronto',20, 8467)\").one()\n",
    "print(row)"
   ]
  },
  {
   "cell_type": "code",
   "execution_count": 84,
   "id": "7adc4a77",
   "metadata": {},
   "outputs": [
    {
     "name": "stdout",
     "output_type": "stream",
     "text": [
      "Row(empid=1, empcity='toronto', empname='ravi', empphone=8467, empsal=20)\n"
     ]
    }
   ],
   "source": [
    "#View table records\n",
    "\n",
    "row = session_offline.execute(\"select * from ravi.emp\").one()\n",
    "print(row)"
   ]
  },
  {
   "cell_type": "code",
   "execution_count": 85,
   "id": "c643f58f",
   "metadata": {},
   "outputs": [
    {
     "name": "stdout",
     "output_type": "stream",
     "text": [
      "None\n"
     ]
    }
   ],
   "source": [
    "row = session_offline.execute(\"insert into ravi.emp(empid,empname, empcity, empsal ,empphone) VALUES(2,'Astha','new york',30, 7121)\").one()\n",
    "print(row)"
   ]
  },
  {
   "cell_type": "code",
   "execution_count": 94,
   "id": "246b0d56",
   "metadata": {},
   "outputs": [
    {
     "name": "stdout",
     "output_type": "stream",
     "text": [
      "Row(empid=1, empcity='toronto', empname='ravi', empphone=8467, empsal=20)\n",
      "Row(empid=2, empcity='new york', empname='Astha', empphone=7121, empsal=30)\n"
     ]
    }
   ],
   "source": [
    "#view multiple records in table\n",
    "\n",
    "for i in session_offline.execute(\"select * from ravi.emp\"):\n",
    "    print(i)"
   ]
  },
  {
   "cell_type": "code",
   "execution_count": null,
   "id": "92bcac82",
   "metadata": {},
   "outputs": [],
   "source": []
  }
 ],
 "metadata": {
  "kernelspec": {
   "display_name": "Python 3 (ipykernel)",
   "language": "python",
   "name": "python3"
  },
  "language_info": {
   "codemirror_mode": {
    "name": "ipython",
    "version": 3
   },
   "file_extension": ".py",
   "mimetype": "text/x-python",
   "name": "python",
   "nbconvert_exporter": "python",
   "pygments_lexer": "ipython3",
   "version": "3.9.7"
  }
 },
 "nbformat": 4,
 "nbformat_minor": 5
}
